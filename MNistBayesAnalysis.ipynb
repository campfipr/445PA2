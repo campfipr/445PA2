{
 "cells": [
  {
   "cell_type": "code",
   "execution_count": null,
   "id": "d9f72098",
   "metadata": {},
   "outputs": [
    {
     "name": "stderr",
     "output_type": "stream",
     "text": [
      "c:\\Users\\tommy\\cs445_venv\\lib\\site-packages\\scipy\\stats\\_distn_infrastructure.py:2085: RuntimeWarning: invalid value encountered in divide\n",
      "  x = np.asarray((x - loc)/scale, dtype=dtyp)\n",
      "c:\\Users\\tommy\\cs445_venv\\lib\\site-packages\\scipy\\stats\\_distn_infrastructure.py:2085: RuntimeWarning: divide by zero encountered in divide\n",
      "  x = np.asarray((x - loc)/scale, dtype=dtyp)\n"
     ]
    }
   ],
   "source": [
    "from nb_classifier import NBClassifier\n",
    "import numpy as np\n",
    "import matplotlib.pyplot as plt\n",
    "\n",
    "from sklearn import datasets\n",
    "from sklearn.model_selection import cross_validate\n",
    "from sklearn.model_selection import KFold\n",
    "\n",
    "X_train = np.load('MNIST_X_train.npy')\n",
    "y_train = np.load('MNIST_y_train.npy')\n",
    "X_test = np.load('MNIST_X_test.npy')\n",
    "y_test = np.load('MNIST_y_test.npy')\n",
    "\n",
    "X_train = np.reshape(X_train, (60000, 784))\n",
    "\n",
    "\n",
    "hypers = np.array([True, False], dtype=bool)\n",
    "X_catigorical = np.full(784, False)\n",
    "FOLDS = 10\n",
    "kf = KFold(n_splits=FOLDS)\n",
    "\n",
    "error_rates = np.zeros((FOLDS)) \n",
    "\n",
    "for smooth in hypers:\n",
    "    \n",
    "    k = 0\n",
    "    for train_index, val_index in kf.split(X_train):\n",
    "        X_tr, X_val = X_train[train_index], X_train[val_index]\n",
    "        y_tr, y_val = y_train[train_index], y_train[val_index]\n",
    "\n",
    "        nb = NBClassifier(smoothing_flag=smooth)\n",
    "        nb.fit(X_tr, X_catigorical, y_tr)\n",
    "        \n",
    "        y_val_predict = nb.predict(X_val)\n",
    "        error_rates[k] = np.count_nonzero((y_val != y_val_predict)) / y_val.size\n",
    "        \n",
    "        k += 1\n",
    "        \n",
    "error_rates_avg = np.mean(error_rates, axis=0)\n",
    "\n",
    "plt.plot(np.arange(0, hypers), error_rates_avg)\n",
    "plt.xlabel('max depth', fontsize=16)\n",
    "plt.ylabel('Error Rate(%)',fontsize=16)\n",
    "plt.show()\n",
    "\n",
    "\n"
   ]
  },
  {
   "cell_type": "code",
   "execution_count": null,
   "id": "557b7536",
   "metadata": {},
   "outputs": [
    {
     "name": "stdout",
     "output_type": "stream",
     "text": [
      "(10000, 784)\n"
     ]
    },
    {
     "name": "stderr",
     "output_type": "stream",
     "text": [
      "c:\\Users\\tommy\\cs445_venv\\lib\\site-packages\\scipy\\stats\\_distn_infrastructure.py:2085: RuntimeWarning: invalid value encountered in divide\n",
      "  x = np.asarray((x - loc)/scale, dtype=dtyp)\n",
      "c:\\Users\\tommy\\cs445_venv\\lib\\site-packages\\scipy\\stats\\_distn_infrastructure.py:2085: RuntimeWarning: divide by zero encountered in divide\n",
      "  x = np.asarray((x - loc)/scale, dtype=dtyp)\n"
     ]
    }
   ],
   "source": [
    "from nb_classifier import NBClassifier\n",
    "from sklearn.metrics import ConfusionMatrixDisplay\n",
    "import numpy as np\n",
    "import matplotlib.pyplot as plt\n",
    "X_train = np.load('MNIST_X_train.npy')\n",
    "y_train = np.load('MNIST_y_train.npy')\n",
    "X_test = np.load('MNIST_X_test.npy')\n",
    "y_test = np.load('MNIST_y_test.npy')\n",
    "\n",
    "X_train = np.reshape(X_train, (60000, 784))\n",
    "X_test = np.reshape(X_test, (10000, 784))\n",
    "\n",
    "X_catigorical = np.full(784, False)\n",
    "\n",
    "train_nb = NBClassifier(smoothing_flag=True)\n",
    "\n",
    "train_nb.fit(X_train,X_catigorical, y_train)\n",
    "y_test_predict = train_nb.predict(X_test)\n",
    "\n",
    "error_rate = np.count_nonzero((y_test != y_test_predict)) / y_test.size\n",
    "print(\"Classification error rate of test data \" + str(error_rate))\n",
    "ConfusionMatrixDisplay.from_predictions(y_test, y_test_predict)\n",
    "plt.show()"
   ]
  },
  {
   "cell_type": "code",
   "execution_count": null,
   "id": "3512f58a",
   "metadata": {},
   "outputs": [],
   "source": []
  },
  {
   "cell_type": "code",
   "execution_count": null,
   "id": "3b7e4dfb",
   "metadata": {},
   "outputs": [],
   "source": []
  }
 ],
 "metadata": {
  "kernelspec": {
   "display_name": "Python 3 (ipykernel)",
   "language": "python",
   "name": "python3"
  },
  "language_info": {
   "codemirror_mode": {
    "name": "ipython",
    "version": 3
   },
   "file_extension": ".py",
   "mimetype": "text/x-python",
   "name": "python",
   "nbconvert_exporter": "python",
   "pygments_lexer": "ipython3",
   "version": "3.10.2"
  },
  "vscode": {
   "interpreter": {
    "hash": "582bac1d02c6c8cbd27dd91c74044d14e2b63f14cda36d56af554a884b3aa477"
   }
  }
 },
 "nbformat": 4,
 "nbformat_minor": 5
}
